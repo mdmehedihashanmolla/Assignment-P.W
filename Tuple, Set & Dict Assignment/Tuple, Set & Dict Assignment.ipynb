{
 "cells": [
  {
   "cell_type": "markdown",
   "id": "4f9a3d3b",
   "metadata": {},
   "source": [
    "**Q1. What Are the Characteristics of the tuples? Is tuple immutable?**"
   ]
  },
  {
   "cell_type": "markdown",
   "id": "8814f6fc",
   "metadata": {},
   "source": [
    "Ans--> \n",
    "\n",
    "    i. Ordered = Tuple Maintain order of the elements. The First elements of tuple is started from 0 and second 1 and So on\n",
    "\n",
    "    ii. Indexed = Each elements in Tuple has unique indexed number to access the elements.\n",
    "\n",
    "    iii. Heterogeneous = Tuple can contain any kind of elements.\n",
    "\n",
    "    iv. Nested = Tuple can be nested. We can store list, dictionaries or any kind of data inside tuple.\n",
    "\n",
    "Ans--> \n",
    "\n",
    "    Yes tuple is immutable. \n"
   ]
  },
  {
   "cell_type": "markdown",
   "id": "13f1ce86",
   "metadata": {},
   "source": [
    "**Q2. What are the two tuple methods in python? Give an examples of each method.**"
   ]
  },
  {
   "cell_type": "markdown",
   "id": "aa35c6ea",
   "metadata": {},
   "source": [
    "Ans-->\n",
    "\n",
    "    count = It will return a  user defined particular value uses how many time in a programme.\n",
    "\n",
    "    index = It will return the index value of a specific elements."
   ]
  },
  {
   "cell_type": "code",
   "execution_count": 1,
   "id": "fd286ebe",
   "metadata": {},
   "outputs": [
    {
     "name": "stdout",
     "output_type": "stream",
     "text": [
      "3\n"
     ]
    }
   ],
   "source": [
    "tup = (1, 2, 4, 5, 4, 7 ,4)\n",
    "print(tup.count(4))\n",
    "# As we can see below the answer is 3 because we have defined 4 three times inside tuple."
   ]
  },
  {
   "cell_type": "code",
   "execution_count": 2,
   "id": "febf6dc5",
   "metadata": {},
   "outputs": [
    {
     "name": "stdout",
     "output_type": "stream",
     "text": [
      "1\n"
     ]
    }
   ],
   "source": [
    "print(tup.index(2))\n",
    "# The answer is 1"
   ]
  },
  {
   "cell_type": "markdown",
   "id": "01ab9db7",
   "metadata": {},
   "source": [
    "**Q2. Give a reason why tuples have only two in-built methods as compared to Lists**\n",
    "\n",
    "Ans --> \n",
    "\n",
    "        Because Tuples are immutable once we created it cannot be modified that's why tuple have only two in-built methods \n",
    "        index() and count."
   ]
  },
  {
   "cell_type": "markdown",
   "id": "77c71a5f",
   "metadata": {},
   "source": [
    "**Q3. Which collection datatypes in python do not allow duplicate items? Write a code using a set to remove duplicate from the given list. List = [1, 1, 1, 2, 1, 3, 1, 4, 2, 1, 2, 2, 2, 3, 2, 4, 3, 1, 3, 2, 3, 3, 3, 4, 4, 1, 4, 2, 4, 3, 4, 4]**"
   ]
  },
  {
   "cell_type": "code",
   "execution_count": 3,
   "id": "6303fbca",
   "metadata": {},
   "outputs": [
    {
     "name": "stdout",
     "output_type": "stream",
     "text": [
      "{1, 2, 3, 4}\n"
     ]
    }
   ],
   "source": [
    "List = [1, 1, 1, 2, 1, 3, 1, 4, 2, 1, 2, 2, 2, 3, 2, 4, 3, 1, 3, 2, 3, 3, 3, 4, 4, 1, 4, 2, 4, 3, 4, 4]\n",
    "s = set(List)\n",
    "print(s)"
   ]
  },
  {
   "cell_type": "markdown",
   "id": "8f784537",
   "metadata": {},
   "source": [
    "**Q4. Explain the difference between the union() and update() methods for a set. Give an example of each method?**\n",
    "\n",
    "Ans -->\n",
    "    \n",
    "        The union mehtod returns a new sets that contains all the new elements from both sets.\n",
    "        \n",
    "        The update() method modifies the original set in place by adding all the unique elements from another set to it.\n",
    "    "
   ]
  },
  {
   "cell_type": "code",
   "execution_count": 4,
   "id": "3abf7c3b",
   "metadata": {},
   "outputs": [
    {
     "name": "stdout",
     "output_type": "stream",
     "text": [
      "{1, 2, 3, 4, 5, 6, 7, 8, 9}\n"
     ]
    }
   ],
   "source": [
    "set1 = {1,2,3,4,5}\n",
    "set2 = { 5,6,7,8,9}\n",
    "union_Set = set1.union(set2)\n",
    "print(union_Set)"
   ]
  },
  {
   "cell_type": "code",
   "execution_count": 5,
   "id": "e4d0feff",
   "metadata": {},
   "outputs": [
    {
     "name": "stdout",
     "output_type": "stream",
     "text": [
      "{1, 2, 3, 4, 5, 6, 7, 8, 9}\n"
     ]
    }
   ],
   "source": [
    "set1 = {1,2,3,4,5}\n",
    "set2 = { 5,6,7,8,9}\n",
    "set1.update(set2)\n",
    "print(set1)"
   ]
  },
  {
   "cell_type": "markdown",
   "id": "cdee52b3",
   "metadata": {},
   "source": [
    "**Q5. What is dictionary? Give an example . Also, state whether a dictionary is ordered or unordered**\n",
    "\n",
    "Ans -->\n",
    "        \n",
    "        A dictionary is a data structure in python . A dictionary is a consist of a collection of key-value pairs. \n",
    "        Each key value pairs maps the key it's to associative value.\n",
    "        \n",
    "     "
   ]
  },
  {
   "cell_type": "code",
   "execution_count": 6,
   "id": "841c6419",
   "metadata": {},
   "outputs": [
    {
     "name": "stdout",
     "output_type": "stream",
     "text": [
      "{1: 'MD', 2: 'Mehedi', 3: 'Hashan', 4: 'Molla'}\n"
     ]
    }
   ],
   "source": [
    "dic = {1: \"MD\", 2: \"Mehedi\", 3: \"Hashan\", 4: \"Molla\"}\n",
    "print(dic)"
   ]
  },
  {
   "cell_type": "markdown",
   "id": "39eb9075",
   "metadata": {},
   "source": [
    "Ans -->\n",
    "\n",
    "        A dictionary is ordered"
   ]
  },
  {
   "cell_type": "markdown",
   "id": "c8849fab",
   "metadata": {},
   "source": [
    "**Q6. Can we create a nested dictionary ? If so, please give an example by creating a simple one-level nested dictionary**"
   ]
  },
  {
   "cell_type": "code",
   "execution_count": 7,
   "id": "4f803676",
   "metadata": {},
   "outputs": [
    {
     "name": "stdout",
     "output_type": "stream",
     "text": [
      "{'Nested_dic1': {'car': 'Lambarginni', 'Model': 2019}, 'Nested_dic2': {'car': 'Tata', 'Model': 2022}}\n"
     ]
    }
   ],
   "source": [
    "dic = {\n",
    "    \n",
    "    \"Nested_dic1\":{\n",
    "        \n",
    "        \"car\": \"Lambarginni\",\n",
    "        \"Model\": 2019\n",
    "        \n",
    "    },\n",
    "    \n",
    "    \n",
    "    \"Nested_dic2\":{\n",
    "        \"car\": \"Tata\",\n",
    "        \"Model\": 2022\n",
    "    }\n",
    "}\n",
    "print(dic)"
   ]
  },
  {
   "cell_type": "markdown",
   "id": "94c59d11",
   "metadata": {},
   "source": [
    "**Q7. Using setdefault() method, create key named topics in the given dictionary and also add the value of the keys at the \n",
    "the list ['Python', 'Machine Learning', 'Deep Learning']**"
   ]
  },
  {
   "cell_type": "code",
   "execution_count": 14,
   "id": "f85a972e",
   "metadata": {},
   "outputs": [
    {
     "name": "stdout",
     "output_type": "stream",
     "text": [
      "{'language': 'Python', 'Course': ' Data Science Master', 'topics': 'Machine Learning and Deep Learning'}\n"
     ]
    }
   ],
   "source": [
    "dict1 = {'language': 'Python', 'Course': ' Data Science Master'}\n",
    "value = dict1.setdefault('topics','Machine Learning and Deep Learning')\n",
    "print(dict1)"
   ]
  },
  {
   "cell_type": "markdown",
   "id": "c062208a",
   "metadata": {},
   "source": [
    "**Q8. What are the three view objects in dictionaries? Use the three in-built methods in python to display these three view objects for the given dictionary\n",
    "dict1 = {['Sports':'Cricket', 'Teams':['India','Australia','England','South Africa','Sri lanka', 'New Zealand']}**\n",
    "\n",
    "Ans -->\n",
    "\n",
    "        i. dict_keys()\n",
    "        ii.dict_values()\n",
    "        iii.dict_items()"
   ]
  },
  {
   "cell_type": "code",
   "execution_count": 20,
   "id": "3ebed528",
   "metadata": {},
   "outputs": [
    {
     "name": "stdout",
     "output_type": "stream",
     "text": [
      "dict_keys(['Sports', 'Teams'])\n",
      "dict_values(['Cricket', ['India', 'Australia', 'England', 'South Africa', 'Sri lanka', 'New Zealand']])\n",
      "dict_items([('Sports', 'Cricket'), ('Teams', ['India', 'Australia', 'England', 'South Africa', 'Sri lanka', 'New Zealand'])])\n"
     ]
    }
   ],
   "source": [
    "dict1 = {'Sports':'Cricket', 'Teams':['India','Australia','England','South Africa','Sri lanka', 'New Zealand']}\n",
    "          \n",
    "print(dict1.keys())\n",
    "print(dict1.values())\n",
    "print(dict1.items())"
   ]
  },
  {
   "cell_type": "code",
   "execution_count": null,
   "id": "9730c1b3",
   "metadata": {},
   "outputs": [],
   "source": []
  },
  {
   "cell_type": "code",
   "execution_count": null,
   "id": "67b0a9a8",
   "metadata": {},
   "outputs": [],
   "source": []
  }
 ],
 "metadata": {
  "kernelspec": {
   "display_name": "Python 3 (ipykernel)",
   "language": "python",
   "name": "python3"
  },
  "language_info": {
   "codemirror_mode": {
    "name": "ipython",
    "version": 3
   },
   "file_extension": ".py",
   "mimetype": "text/x-python",
   "name": "python",
   "nbconvert_exporter": "python",
   "pygments_lexer": "ipython3",
   "version": "3.10.7"
  }
 },
 "nbformat": 4,
 "nbformat_minor": 5
}
